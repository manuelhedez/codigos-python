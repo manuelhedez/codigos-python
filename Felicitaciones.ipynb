{
  "cells": [
    {
      "cell_type": "markdown",
      "metadata": {
        "id": "view-in-github",
        "colab_type": "text"
      },
      "source": [
        "<a href=\"https://colab.research.google.com/github/manuelhedez/codigos-python/blob/main/Felicitaciones.ipynb\" target=\"_parent\"><img src=\"https://colab.research.google.com/assets/colab-badge.svg\" alt=\"Open In Colab\"/></a>"
      ]
    },
    {
      "cell_type": "code",
      "execution_count": null,
      "metadata": {
        "id": "7BjoyWAQxGnW"
      },
      "outputs": [],
      "source": []
    },
    {
      "cell_type": "code",
      "execution_count": 11,
      "metadata": {
        "id": "RvlYkCQ9vFiy"
      },
      "outputs": [],
      "source": [
        "!pip install -q streamlit"
      ]
    },
    {
      "cell_type": "code",
      "source": [],
      "metadata": {
        "id": "hKHWWoF0gv3j"
      },
      "execution_count": null,
      "outputs": []
    },
    {
      "cell_type": "code",
      "execution_count": 19,
      "metadata": {
        "colab": {
          "base_uri": "https://localhost:8080/"
        },
        "id": "meJ36PefNftd",
        "outputId": "cb66d874-e212-434f-a067-1866aa135726"
      },
      "outputs": [
        {
          "output_type": "stream",
          "name": "stdout",
          "text": [
            "Overwriting app.py\n"
          ]
        }
      ],
      "source": [
        "%%writefile app.py\n",
        "import streamlit as st\n",
        "import streamlit as st\n",
        "import csv\n",
        "import random\n",
        "from datetime import datetime, timedelta, date\n",
        "import os\n",
        "import smtplib\n",
        "from email.mime.text import MIMEText\n",
        "# === CLASES ===\n",
        "class cumpleaños:\n",
        "    def __init__(self, nombre, año, mes, dia, correo):\n",
        "        self._nombre = nombre\n",
        "        self.fecha = date(año, mes, dia)\n",
        "        self.correo = correo\n",
        "\n",
        "    @property\n",
        "    def fecha(self):\n",
        "        return self._fecha\n",
        "    @fecha.setter\n",
        "    def fecha(self, fecha):\n",
        "        self._fecha = fecha\n",
        "\n",
        "    @property\n",
        "    def nombre(self):\n",
        "        return self._nombre\n",
        "    @nombre.setter\n",
        "    def nombre(self, nuevonombre):\n",
        "        self._nombre = nuevonombre\n",
        "\n",
        "    @property\n",
        "    def correo(self):\n",
        "        return self._correo\n",
        "    @correo.setter\n",
        "    def correo(self, correo):\n",
        "        self._correo = correo\n",
        "\n",
        "class mensaje:\n",
        "    def __init__(self, mensaje):\n",
        "        self._mensaje = mensaje\n",
        "    @property\n",
        "    def mensaje(self):\n",
        "        return self._mensaje\n",
        "    @mensaje.setter\n",
        "    def mensaje(self, mensaje):\n",
        "        self._mensaje = mensaje\n",
        "\n",
        "# === FUNCIONES AUXILIARES ===\n",
        "def calcular_cuenta_regresiva(fecha_nacimiento):\n",
        "    ahora = datetime.now()\n",
        "    hoy = ahora.date()\n",
        "    proximo_cumple = fecha_nacimiento.replace(year=hoy.year)\n",
        "    if proximo_cumple < hoy:\n",
        "        proximo_cumple = proximo_cumple.replace(year=hoy.year + 1)\n",
        "    proximo_cumple_dt = datetime.combine(proximo_cumple, datetime.min.time())\n",
        "    diferencia = proximo_cumple_dt - ahora\n",
        "    return diferencia\n",
        "\n",
        "def cargar_personas():\n",
        "    personas = []\n",
        "    try:\n",
        "        with open(\"datoscump.csv\", mode=\"r\", newline=\"\", encoding=\"utf-8\") as file:\n",
        "            reader = csv.DictReader(file)\n",
        "            for row in reader:\n",
        "                nombre = row[\"Nombre\"]\n",
        "                fecha_str = row[\"fecha\"]\n",
        "                correo = row[\"correo\"]\n",
        "                año, mes, dia = map(int, fecha_str.split(\"-\"))\n",
        "                personas.append(cumpleaños(nombre, año, mes, dia, correo))\n",
        "    except FileNotFoundError:\n",
        "        pass\n",
        "    return personas\n",
        "\n",
        "def cargar_mensajes():\n",
        "    mensajes = []\n",
        "    try:\n",
        "        with open(\"mensaje.csv\", mode=\"r\", newline=\"\", encoding=\"utf-8\") as file:\n",
        "            reader = csv.DictReader(file)\n",
        "            for row in reader:\n",
        "                mensajes.append(mensaje(row[\"mensaje\"]))\n",
        "    except FileNotFoundError:\n",
        "        pass\n",
        "    return mensajes\n",
        "def enviar_felicitacion(destinatario, nombre, mensaje_texto):\n",
        "    remitente = \"manuel.hernandez9742@alumnos.udg.mx\"\n",
        "    contraseña = \"upru phlt tcfk aqfq\"\n",
        "\n",
        "    msg = MIMEText(f\"¡Feliz cumpleaños, {nombre}!\\n\\n{mensaje_texto}\")\n",
        "    msg[\"Subject\"] = \"🎉 ¡Feliz cumpleaños!\"\n",
        "    msg[\"From\"] = remitente\n",
        "    msg[\"To\"] = destinatario\n",
        "\n",
        "    with smtplib.SMTP(\"smtp.gmail.com\", 587) as server:\n",
        "        server.starttls()\n",
        "        server.login(remitente, contraseña)\n",
        "        server.send_message(msg)\n",
        "\n",
        "# === INTERFAZ STREAMLIT ===\n",
        "st.set_page_config(page_title=\"Gestor de Cumpleaños 🎂\", layout=\"centered\")\n",
        "st.title(\"🎉 Gestor de Cumpleaños con Mensajes\")\n",
        "\n",
        "personas = cargar_personas()\n",
        "mensajes = cargar_mensajes()\n",
        "\n",
        "st.subheader(\"📋 Lista de Cumpleaños\")\n",
        "if personas:\n",
        "    for persona in personas:\n",
        "        cuenta = calcular_cuenta_regresiva(persona.fecha)\n",
        "        dias, segundos = cuenta.days, cuenta.seconds\n",
        "        horas = segundos // 3600\n",
        "        minutos = (segundos % 3600) // 60\n",
        "        segundos = segundos % 60\n",
        "        st.write(f\"**{persona.nombre}** | {persona.fecha} | Faltan `{dias}d {horas}h {minutos}m`\")\n",
        "else:\n",
        "    st.info(\"No hay cumpleaños registrados.\")\n",
        "\n",
        "# === FORMULARIOS ===\n",
        "with st.expander(\"➕ Agregar cumpleaños\"):\n",
        "    with st.form(\"form_cumple\"):\n",
        "        nombre = st.text_input(\"Nombre\")\n",
        "        fecha = st.date_input(\"Fecha de nacimiento\")\n",
        "        correo = st.text_input(\"Correo\")\n",
        "        enviar = st.form_submit_button(\"Guardar cumpleaños\")\n",
        "        if enviar:\n",
        "            nuevo = cumpleaños(nombre, fecha.year, fecha.month, fecha.day, correo)\n",
        "            with open(\"datoscump.csv\", mode=\"a\", newline=\"\", encoding=\"utf-8\") as file:\n",
        "                writer = csv.writer(file)\n",
        "                if os.stat(\"datoscump.csv\").st_size == 0:\n",
        "                    writer.writerow([\"Nombre\", \"fecha\", \"correo\"])\n",
        "                writer.writerow([nuevo.nombre, nuevo.fecha, nuevo.correo])\n",
        "            st.success(f\"Se agregó a {nuevo.nombre}\")\n",
        "\n",
        "with st.expander(\"💬 Agregar mensaje\"):\n",
        "    with st.form(\"form_mensaje\"):\n",
        "        texto = st.text_area(\"Mensaje de felicitación\")\n",
        "        enviar = st.form_submit_button(\"Guardar mensaje\")\n",
        "        if enviar:\n",
        "            nuevo = mensaje(texto)\n",
        "            with open(\"mensaje.csv\", mode=\"a\", newline=\"\", encoding=\"utf-8\") as file:\n",
        "                writer = csv.writer(file)\n",
        "                if os.stat(\"mensaje.csv\").st_size == 0:\n",
        "                    writer.writerow([\"mensaje\"])\n",
        "                writer.writerow([nuevo.mensaje])\n",
        "            st.success(\"Mensaje guardado\")\n",
        "\n",
        "# === ENVÍO AUTOMÁTICO (opcional en botón) ===\n",
        "with st.expander(\"📬 Revisar cumpleaños y enviar mensajes\"):\n",
        "    hoy = date.today()\n",
        "    cumple_hoy = [p for p in personas if p.fecha.day == hoy.day and p.fecha.month == hoy.month]\n",
        "\n",
        "    if cumple_hoy and mensajes:\n",
        "        st.write(f\"🎉 Hay {len(cumple_hoy)} cumpleaños hoy.\")\n",
        "\n",
        "        opcion = st.radio(\n",
        "            \"¿Quieres elegir un mensaje o enviar uno aleatorio?\",\n",
        "            (\"Aleatorio\", \"Elegir mensaje específico\"),\n",
        "            key=\"tipo_mensaje\"\n",
        "        )\n",
        "\n",
        "        opciones_mensajes = [m.mensaje for m in mensajes]\n",
        "        if opcion == \"Elegir mensaje específico\":\n",
        "            mensaje_seleccionado = st.selectbox(\"Selecciona el mensaje a enviar\", opciones_mensajes, key=\"mensaje_manual\")\n",
        "        else:\n",
        "            mensaje_seleccionado = random.choice(opciones_mensajes)\n",
        "\n",
        "        if st.button(\"Enviar mensajes\"):\n",
        "            for persona in cumple_hoy:\n",
        "                try:\n",
        "                    enviar_felicitacion(persona.correo, persona.nombre, mensaje_seleccionado)\n",
        "                    st.success(f\"Mensaje enviado a {persona.nombre}\")\n",
        "                except Exception as e:\n",
        "                    st.error(f\"Error al enviar a {persona.nombre}: {e}\")\n",
        "    else:\n",
        "        st.warning(\"No hay cumpleaños hoy o no hay mensajes cargados.\")\n"
      ]
    },
    {
      "cell_type": "code",
      "execution_count": 20,
      "metadata": {
        "colab": {
          "base_uri": "https://localhost:8080/"
        },
        "id": "ZAyqQCQVOoxC",
        "outputId": "c936768a-717f-4ae7-f322-a7634ba717c9"
      },
      "outputs": [
        {
          "output_type": "stream",
          "name": "stdout",
          "text": [
            "\u001b[1G\u001b[0K⠙\u001b[1G\u001b[0K⠹\u001b[1G\u001b[0K⠸\u001b[1G\u001b[0K⠼\u001b[1G\u001b[0K⠴\u001b[1G\u001b[0K⠦\u001b[1G\u001b[0K\n",
            "up to date, audited 23 packages in 760ms\n",
            "\u001b[1G\u001b[0K⠧\u001b[1G\u001b[0K\n",
            "\u001b[1G\u001b[0K⠧\u001b[1G\u001b[0K3 packages are looking for funding\n",
            "\u001b[1G\u001b[0K⠧\u001b[1G\u001b[0K  run `npm fund` for details\n",
            "\u001b[1G\u001b[0K⠧\u001b[1G\u001b[0K\n",
            "2 \u001b[31m\u001b[1mhigh\u001b[22m\u001b[39m severity vulnerabilities\n",
            "\n",
            "To address all issues (including breaking changes), run:\n",
            "  npm audit fix --force\n",
            "\n",
            "Run `npm audit` for details.\n",
            "\u001b[1G\u001b[0K⠧\u001b[1G\u001b[0K"
          ]
        }
      ],
      "source": [
        "!npm install localtunnel"
      ]
    },
    {
      "cell_type": "code",
      "execution_count": 21,
      "metadata": {
        "colab": {
          "base_uri": "https://localhost:8080/"
        },
        "id": "Zv912rRAN0fs",
        "outputId": "452ece5b-02e1-497e-de91-69cdd82ceb20"
      },
      "outputs": [
        {
          "output_type": "stream",
          "name": "stdout",
          "text": [
            "34.16.138.158\n"
          ]
        }
      ],
      "source": [
        "!streamlit run /content/app.py &>/content/logs.txt & curl ipv4.icanhazip.com"
      ]
    },
    {
      "cell_type": "code",
      "execution_count": 22,
      "metadata": {
        "colab": {
          "base_uri": "https://localhost:8080/"
        },
        "id": "XTGAizLhOIgC",
        "outputId": "071969bd-d3c9-4aba-cebf-9039bbccd217"
      },
      "outputs": [
        {
          "output_type": "stream",
          "name": "stdout",
          "text": [
            "\u001b[1G\u001b[0K⠙\u001b[1G\u001b[0Kyour url is: https://tender-pugs-cough.loca.lt\n",
            "^C\n"
          ]
        }
      ],
      "source": [
        "!npx localtunnel --port 8501"
      ]
    }
  ],
  "metadata": {
    "colab": {
      "provenance": [],
      "authorship_tag": "ABX9TyO8MlR2vWvkBRa2H7lbBRT1",
      "include_colab_link": true
    },
    "kernelspec": {
      "display_name": "Python 3",
      "name": "python3"
    },
    "language_info": {
      "name": "python"
    }
  },
  "nbformat": 4,
  "nbformat_minor": 0
}