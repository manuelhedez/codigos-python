{
  "nbformat": 4,
  "nbformat_minor": 0,
  "metadata": {
    "colab": {
      "provenance": [],
      "authorship_tag": "ABX9TyMbT0mPMRO5bTwVFR/LJg9v",
      "include_colab_link": true
    },
    "kernelspec": {
      "name": "python3",
      "display_name": "Python 3"
    },
    "language_info": {
      "name": "python"
    },
    "widgets": {
      "application/vnd.jupyter.widget-state+json": {
        "eee650501de14874b107ef87b9fcfa26": {
          "model_module": "@jupyter-widgets/controls",
          "model_name": "ButtonModel",
          "model_module_version": "1.5.0",
          "state": {
            "_dom_classes": [],
            "_model_module": "@jupyter-widgets/controls",
            "_model_module_version": "1.5.0",
            "_model_name": "ButtonModel",
            "_view_count": null,
            "_view_module": "@jupyter-widgets/controls",
            "_view_module_version": "1.5.0",
            "_view_name": "ButtonView",
            "button_style": "",
            "description": "Likes",
            "disabled": false,
            "icon": "",
            "layout": "IPY_MODEL_58fe44ef73594e499050ad574818a1b4",
            "style": "IPY_MODEL_f35dfa4f51d348bf930f7b418994ab03",
            "tooltip": ""
          }
        },
        "58fe44ef73594e499050ad574818a1b4": {
          "model_module": "@jupyter-widgets/base",
          "model_name": "LayoutModel",
          "model_module_version": "1.2.0",
          "state": {
            "_model_module": "@jupyter-widgets/base",
            "_model_module_version": "1.2.0",
            "_model_name": "LayoutModel",
            "_view_count": null,
            "_view_module": "@jupyter-widgets/base",
            "_view_module_version": "1.2.0",
            "_view_name": "LayoutView",
            "align_content": null,
            "align_items": null,
            "align_self": null,
            "border": null,
            "bottom": null,
            "display": null,
            "flex": null,
            "flex_flow": null,
            "grid_area": null,
            "grid_auto_columns": null,
            "grid_auto_flow": null,
            "grid_auto_rows": null,
            "grid_column": null,
            "grid_gap": null,
            "grid_row": null,
            "grid_template_areas": null,
            "grid_template_columns": null,
            "grid_template_rows": null,
            "height": null,
            "justify_content": null,
            "justify_items": null,
            "left": null,
            "margin": null,
            "max_height": null,
            "max_width": null,
            "min_height": null,
            "min_width": null,
            "object_fit": null,
            "object_position": null,
            "order": null,
            "overflow": null,
            "overflow_x": null,
            "overflow_y": null,
            "padding": null,
            "right": null,
            "top": null,
            "visibility": null,
            "width": null
          }
        },
        "f35dfa4f51d348bf930f7b418994ab03": {
          "model_module": "@jupyter-widgets/controls",
          "model_name": "ButtonStyleModel",
          "model_module_version": "1.5.0",
          "state": {
            "_model_module": "@jupyter-widgets/controls",
            "_model_module_version": "1.5.0",
            "_model_name": "ButtonStyleModel",
            "_view_count": null,
            "_view_module": "@jupyter-widgets/base",
            "_view_module_version": "1.2.0",
            "_view_name": "StyleView",
            "button_color": null,
            "font_weight": ""
          }
        },
        "6aa992c44d5c49de96fff725cd5e3b6c": {
          "model_module": "@jupyter-widgets/output",
          "model_name": "OutputModel",
          "model_module_version": "1.0.0",
          "state": {
            "_dom_classes": [],
            "_model_module": "@jupyter-widgets/output",
            "_model_module_version": "1.0.0",
            "_model_name": "OutputModel",
            "_view_count": null,
            "_view_module": "@jupyter-widgets/output",
            "_view_module_version": "1.0.0",
            "_view_name": "OutputView",
            "layout": "IPY_MODEL_2477bcc2f80047f880c0461662bbb292",
            "msg_id": "",
            "outputs": []
          }
        },
        "2477bcc2f80047f880c0461662bbb292": {
          "model_module": "@jupyter-widgets/base",
          "model_name": "LayoutModel",
          "model_module_version": "1.2.0",
          "state": {
            "_model_module": "@jupyter-widgets/base",
            "_model_module_version": "1.2.0",
            "_model_name": "LayoutModel",
            "_view_count": null,
            "_view_module": "@jupyter-widgets/base",
            "_view_module_version": "1.2.0",
            "_view_name": "LayoutView",
            "align_content": null,
            "align_items": null,
            "align_self": null,
            "border": null,
            "bottom": null,
            "display": null,
            "flex": null,
            "flex_flow": null,
            "grid_area": null,
            "grid_auto_columns": null,
            "grid_auto_flow": null,
            "grid_auto_rows": null,
            "grid_column": null,
            "grid_gap": null,
            "grid_row": null,
            "grid_template_areas": null,
            "grid_template_columns": null,
            "grid_template_rows": null,
            "height": null,
            "justify_content": null,
            "justify_items": null,
            "left": null,
            "margin": null,
            "max_height": null,
            "max_width": null,
            "min_height": null,
            "min_width": null,
            "object_fit": null,
            "object_position": null,
            "order": null,
            "overflow": null,
            "overflow_x": null,
            "overflow_y": null,
            "padding": null,
            "right": null,
            "top": null,
            "visibility": null,
            "width": null
          }
        },
        "aabc6a68d70241c592fd4bf4866b82cb": {
          "model_module": "@jupyter-widgets/controls",
          "model_name": "ButtonModel",
          "model_module_version": "1.5.0",
          "state": {
            "_dom_classes": [],
            "_model_module": "@jupyter-widgets/controls",
            "_model_module_version": "1.5.0",
            "_model_name": "ButtonModel",
            "_view_count": null,
            "_view_module": "@jupyter-widgets/controls",
            "_view_module_version": "1.5.0",
            "_view_name": "ButtonView",
            "button_style": "",
            "description": "compartir",
            "disabled": false,
            "icon": "",
            "layout": "IPY_MODEL_8e4f87d520134904879816ce610a2dd1",
            "style": "IPY_MODEL_b1d3944102b544c4a07ac9fb3abcb399",
            "tooltip": ""
          }
        },
        "8e4f87d520134904879816ce610a2dd1": {
          "model_module": "@jupyter-widgets/base",
          "model_name": "LayoutModel",
          "model_module_version": "1.2.0",
          "state": {
            "_model_module": "@jupyter-widgets/base",
            "_model_module_version": "1.2.0",
            "_model_name": "LayoutModel",
            "_view_count": null,
            "_view_module": "@jupyter-widgets/base",
            "_view_module_version": "1.2.0",
            "_view_name": "LayoutView",
            "align_content": null,
            "align_items": null,
            "align_self": null,
            "border": null,
            "bottom": null,
            "display": null,
            "flex": null,
            "flex_flow": null,
            "grid_area": null,
            "grid_auto_columns": null,
            "grid_auto_flow": null,
            "grid_auto_rows": null,
            "grid_column": null,
            "grid_gap": null,
            "grid_row": null,
            "grid_template_areas": null,
            "grid_template_columns": null,
            "grid_template_rows": null,
            "height": null,
            "justify_content": null,
            "justify_items": null,
            "left": null,
            "margin": null,
            "max_height": null,
            "max_width": null,
            "min_height": null,
            "min_width": null,
            "object_fit": null,
            "object_position": null,
            "order": null,
            "overflow": null,
            "overflow_x": null,
            "overflow_y": null,
            "padding": null,
            "right": null,
            "top": null,
            "visibility": null,
            "width": null
          }
        },
        "b1d3944102b544c4a07ac9fb3abcb399": {
          "model_module": "@jupyter-widgets/controls",
          "model_name": "ButtonStyleModel",
          "model_module_version": "1.5.0",
          "state": {
            "_model_module": "@jupyter-widgets/controls",
            "_model_module_version": "1.5.0",
            "_model_name": "ButtonStyleModel",
            "_view_count": null,
            "_view_module": "@jupyter-widgets/base",
            "_view_module_version": "1.2.0",
            "_view_name": "StyleView",
            "button_color": null,
            "font_weight": ""
          }
        },
        "8c3e4b320bf84082b0ccdf013741f55b": {
          "model_module": "@jupyter-widgets/output",
          "model_name": "OutputModel",
          "model_module_version": "1.0.0",
          "state": {
            "_dom_classes": [],
            "_model_module": "@jupyter-widgets/output",
            "_model_module_version": "1.0.0",
            "_model_name": "OutputModel",
            "_view_count": null,
            "_view_module": "@jupyter-widgets/output",
            "_view_module_version": "1.0.0",
            "_view_name": "OutputView",
            "layout": "IPY_MODEL_69e1109e3a6449b3a376f40ef2858047",
            "msg_id": "",
            "outputs": [
              {
                "output_type": "stream",
                "name": "stdout",
                "text": [
                  "1 likes\n"
                ]
              },
              {
                "output_type": "stream",
                "name": "stdout",
                "text": [
                  "2 likes\n"
                ]
              },
              {
                "output_type": "stream",
                "name": "stdout",
                "text": [
                  "3 likes\n"
                ]
              },
              {
                "output_type": "stream",
                "name": "stdout",
                "text": [
                  "4 likes\n"
                ]
              },
              {
                "output_type": "stream",
                "name": "stdout",
                "text": [
                  "5 likes\n"
                ]
              },
              {
                "output_type": "stream",
                "name": "stdout",
                "text": [
                  "6 likes\n"
                ]
              },
              {
                "output_type": "stream",
                "name": "stdout",
                "text": [
                  "7 likes\n"
                ]
              },
              {
                "output_type": "stream",
                "name": "stdout",
                "text": [
                  "8 likes\n"
                ]
              },
              {
                "output_type": "stream",
                "name": "stdout",
                "text": [
                  "9 likes\n"
                ]
              },
              {
                "output_type": "stream",
                "name": "stdout",
                "text": [
                  "10 likes\n"
                ]
              },
              {
                "output_type": "stream",
                "name": "stdout",
                "text": [
                  "compartido 1 veces\n"
                ]
              },
              {
                "output_type": "stream",
                "name": "stdout",
                "text": [
                  "compartido 2 veces\n"
                ]
              }
            ]
          }
        },
        "69e1109e3a6449b3a376f40ef2858047": {
          "model_module": "@jupyter-widgets/base",
          "model_name": "LayoutModel",
          "model_module_version": "1.2.0",
          "state": {
            "_model_module": "@jupyter-widgets/base",
            "_model_module_version": "1.2.0",
            "_model_name": "LayoutModel",
            "_view_count": null,
            "_view_module": "@jupyter-widgets/base",
            "_view_module_version": "1.2.0",
            "_view_name": "LayoutView",
            "align_content": null,
            "align_items": null,
            "align_self": null,
            "border": null,
            "bottom": null,
            "display": null,
            "flex": null,
            "flex_flow": null,
            "grid_area": null,
            "grid_auto_columns": null,
            "grid_auto_flow": null,
            "grid_auto_rows": null,
            "grid_column": null,
            "grid_gap": null,
            "grid_row": null,
            "grid_template_areas": null,
            "grid_template_columns": null,
            "grid_template_rows": null,
            "height": null,
            "justify_content": null,
            "justify_items": null,
            "left": null,
            "margin": null,
            "max_height": null,
            "max_width": null,
            "min_height": null,
            "min_width": null,
            "object_fit": null,
            "object_position": null,
            "order": null,
            "overflow": null,
            "overflow_x": null,
            "overflow_y": null,
            "padding": null,
            "right": null,
            "top": null,
            "visibility": null,
            "width": null
          }
        }
      }
    }
  },
  "cells": [
    {
      "cell_type": "markdown",
      "metadata": {
        "id": "view-in-github",
        "colab_type": "text"
      },
      "source": [
        "<a href=\"https://colab.research.google.com/github/manuelhedez/codigos-python/blob/main/instagrambetafuncional.ipynb\" target=\"_parent\"><img src=\"https://colab.research.google.com/assets/colab-badge.svg\" alt=\"Open In Colab\"/></a>"
      ]
    },
    {
      "cell_type": "code",
      "execution_count": 1,
      "metadata": {
        "colab": {
          "base_uri": "https://localhost:8080/",
          "height": 483,
          "referenced_widgets": [
            "eee650501de14874b107ef87b9fcfa26",
            "58fe44ef73594e499050ad574818a1b4",
            "f35dfa4f51d348bf930f7b418994ab03",
            "6aa992c44d5c49de96fff725cd5e3b6c",
            "2477bcc2f80047f880c0461662bbb292",
            "aabc6a68d70241c592fd4bf4866b82cb",
            "8e4f87d520134904879816ce610a2dd1",
            "b1d3944102b544c4a07ac9fb3abcb399",
            "8c3e4b320bf84082b0ccdf013741f55b",
            "69e1109e3a6449b3a376f40ef2858047"
          ]
        },
        "id": "mCptqpEOxHEI",
        "outputId": "f9e0ac80-7340-4d49-b8c9-58208ee05b74"
      },
      "outputs": [
        {
          "output_type": "stream",
          "name": "stdout",
          "text": [
            "manuel correogenerico@gmail.com,\n",
            "ingrese el titulo del postncnknvc\n",
            "ingrese los tags del postfd\n",
            "ingrese la ubicacion del post\n",
            "ingrese url de la fotofw\n",
            "ncnknvc\n",
            "2025-04-04 13:52:27.492190\n"
          ]
        },
        {
          "output_type": "display_data",
          "data": {
            "text/plain": [
              "'fw'"
            ],
            "application/vnd.google.colaboratory.intrinsic+json": {
              "type": "string"
            }
          },
          "metadata": {}
        },
        {
          "output_type": "stream",
          "name": "stdout",
          "text": [
            "fd\n",
            "\n"
          ]
        },
        {
          "output_type": "display_data",
          "data": {
            "text/plain": [
              "Button(description='Likes', style=ButtonStyle())"
            ],
            "application/vnd.jupyter.widget-view+json": {
              "version_major": 2,
              "version_minor": 0,
              "model_id": "eee650501de14874b107ef87b9fcfa26"
            }
          },
          "metadata": {}
        },
        {
          "output_type": "display_data",
          "data": {
            "text/plain": [
              "Output()"
            ],
            "application/vnd.jupyter.widget-view+json": {
              "version_major": 2,
              "version_minor": 0,
              "model_id": "6aa992c44d5c49de96fff725cd5e3b6c"
            }
          },
          "metadata": {}
        },
        {
          "output_type": "display_data",
          "data": {
            "text/plain": [
              "Button(description='compartir', style=ButtonStyle())"
            ],
            "application/vnd.jupyter.widget-view+json": {
              "version_major": 2,
              "version_minor": 0,
              "model_id": "aabc6a68d70241c592fd4bf4866b82cb"
            }
          },
          "metadata": {}
        },
        {
          "output_type": "display_data",
          "data": {
            "text/plain": [
              "Output()"
            ],
            "application/vnd.jupyter.widget-view+json": {
              "version_major": 2,
              "version_minor": 0,
              "model_id": "8c3e4b320bf84082b0ccdf013741f55b"
            }
          },
          "metadata": {}
        }
      ],
      "source": [
        "#import ipywidgets as widgets\n",
        "from IPython.display import display\n",
        "from datetime import datetime,date\n",
        "class post:\n",
        "  def __init__(self,titulo,fecha,tags,ubi,foto):\n",
        "      self.titulo = titulo\n",
        "      self.fecha = fecha\n",
        "      self.tags = tags\n",
        "      self.ubi = ubi\n",
        "      self.foto = foto\n",
        "  @property\n",
        "  def titulo(self):\n",
        "      return self._titulo\n",
        "  @titulo.setter\n",
        "  def titulo(self, nuevotitulo):\n",
        "      self._titulo = nuevotitulo\n",
        "  @property\n",
        "  def fecha(self):\n",
        "      return self._fecha\n",
        "  @fecha.setter\n",
        "  def fecha(self, fecha):\n",
        "      self._fecha = fecha\n",
        "  @property\n",
        "  def tags(self):\n",
        "      return self._tags\n",
        "  @tags.setter\n",
        "  def tags(self, ntags):\n",
        "      self._tags = ntags\n",
        "  @property\n",
        "  def ubi(self):\n",
        "      return self._ubi\n",
        "  @ubi.setter\n",
        "  def ubi(self, nubi):\n",
        "      self._ubi = nubi\n",
        "  def show_foto(self):\n",
        "          if self._foto:\n",
        "              display(self._foto)\n",
        "          else:\n",
        "              print(\"No image available.\")\n",
        "  @property\n",
        "  def foto(self):\n",
        "        return self._foto\n",
        "  @foto.setter\n",
        "  def foto(self, nfoto):\n",
        "      self._foto = nfoto\n",
        "  def crearpost(self,personax):\n",
        "\n",
        "    personax.titulo=input(\"ingrese el titulo del post\")\n",
        "    personax.tags=input(\"ingrese los tags del post\")\n",
        "    personax.ubi=input(\"ingrese la ubicacion del post\")\n",
        "    personax.foto=input(\"ingrese url de la foto\")\n",
        "    return personax\n",
        "class usuario(post):\n",
        "  def __init__(self,nombre,correo,likes,compartir):\n",
        "    comentarios=[]\n",
        "    self.nombre = nombre\n",
        "    self.correo = correo\n",
        "    self.likes=likes\n",
        "    self.compartir=compartir\n",
        "\n",
        "\n",
        "persona1=usuario(\"manuel\",\"correogenerico@gmail.com,\",0,0)\n",
        "print(persona1.nombre,persona1.correo)\n",
        "persona1.crearpost(persona1)\n",
        "a=datetime.today()\n",
        "persona1.fecha=a\n",
        "print(persona1.titulo)\n",
        "print(persona1.fecha)\n",
        "persona1.show_foto()\n",
        "print(persona1.tags)\n",
        "print(persona1.ubi)\n",
        "button=widgets.Button(description=\"Likes\")\n",
        "output=widgets.Output()\n",
        "\n",
        "display(button,output)\n",
        "\n",
        "def on_button_clicked(b):\n",
        "    with output:\n",
        "        persona1.likes=persona1.likes+1\n",
        "        print(persona1.likes ,\"likes\")\n",
        "button.on_click(on_button_clicked)\n",
        "\n",
        "\n",
        "button=widgets.Button(description=\"compartir\")\n",
        "output=widgets.Output()\n",
        "\n",
        "display(button,output)\n",
        "\n",
        "def on_button_clicked(b):\n",
        "    with output:\n",
        "        persona1.compartir=persona1.compartir+1\n",
        "        print(\"compartido\", persona1.compartir, \"veces\")\n",
        "button.on_click(on_button_clicked)\n",
        "\n"
      ]
    }
  ]
}