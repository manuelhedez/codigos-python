{
  "nbformat": 4,
  "nbformat_minor": 0,
  "metadata": {
    "colab": {
      "provenance": [],
      "authorship_tag": "ABX9TyM6eOUTSDFG0z8zSxGdLYtm",
      "include_colab_link": true
    },
    "kernelspec": {
      "name": "python3",
      "display_name": "Python 3"
    },
    "language_info": {
      "name": "python"
    }
  },
  "cells": [
    {
      "cell_type": "markdown",
      "metadata": {
        "id": "view-in-github",
        "colab_type": "text"
      },
      "source": [
        "<a href=\"https://colab.research.google.com/github/manuelhedez/codigos-python/blob/main/actividad1.ipynb\" target=\"_parent\"><img src=\"https://colab.research.google.com/assets/colab-badge.svg\" alt=\"Open In Colab\"/></a>"
      ]
    },
    {
      "cell_type": "code",
      "execution_count": null,
      "metadata": {
        "colab": {
          "base_uri": "https://localhost:8080/"
        },
        "id": "P2oYd5GLrdsj",
        "outputId": "9d8a5c7f-ba3a-4a00-b798-b1370549e178"
      },
      "outputs": [
        {
          "output_type": "stream",
          "name": "stdout",
          "text": [
            "carro= auto(Toyota,Corolla,2020)\n",
            "2021-12-12 00:00:00\n"
          ]
        }
      ],
      "source": [
        "from datetime import datetime\n",
        "class Auto:\n",
        "  def __init__(self, marca, modelo, ano):\n",
        "    self.marca = marca\n",
        "    self.modelo = modelo\n",
        "    self.ano = ano\n",
        "  def get_info(self):\n",
        "    return f\"carro= auto({self.marca},{self.modelo},{self.ano})\"\n",
        "  def ultima_verificacion(self):\n",
        "    a = datetime(2021, 12, 12)\n",
        "    return a\n",
        "carro = Auto(\"Toyota\", \"Corolla\", 2020)\n",
        "print(carro.get_info())\n",
        "print(carro.ultima_verificacion())"
      ]
    },
    {
      "cell_type": "code",
      "source": [],
      "metadata": {
        "id": "g5XUFma7zuE5"
      },
      "execution_count": null,
      "outputs": []
    },
    {
      "cell_type": "code",
      "source": [],
      "metadata": {
        "id": "7fkyGvM5zXA5"
      },
      "execution_count": null,
      "outputs": []
    }
  ]
}