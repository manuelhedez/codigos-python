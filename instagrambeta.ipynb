{
  "nbformat": 4,
  "nbformat_minor": 0,
  "metadata": {
    "colab": {
      "provenance": [],
      "authorship_tag": "ABX9TyO/2G2Wm+8lGv+e3qd7He8G",
      "include_colab_link": true
    },
    "kernelspec": {
      "name": "python3",
      "display_name": "Python 3"
    },
    "language_info": {
      "name": "python"
    },
    "widgets": {
      "application/vnd.jupyter.widget-state+json": {
        "7d37f9534f4544ee9ef685ae202db161": {
          "model_module": "@jupyter-widgets/controls",
          "model_name": "ButtonModel",
          "model_module_version": "1.5.0",
          "state": {
            "_dom_classes": [],
            "_model_module": "@jupyter-widgets/controls",
            "_model_module_version": "1.5.0",
            "_model_name": "ButtonModel",
            "_view_count": null,
            "_view_module": "@jupyter-widgets/controls",
            "_view_module_version": "1.5.0",
            "_view_name": "ButtonView",
            "button_style": "",
            "description": "Likes",
            "disabled": false,
            "icon": "",
            "layout": "IPY_MODEL_f8e16d512a594f528ece86f8cac7c299",
            "style": "IPY_MODEL_a46aefb6db124bdd945edd4abd2b354a",
            "tooltip": ""
          }
        },
        "f8e16d512a594f528ece86f8cac7c299": {
          "model_module": "@jupyter-widgets/base",
          "model_name": "LayoutModel",
          "model_module_version": "1.2.0",
          "state": {
            "_model_module": "@jupyter-widgets/base",
            "_model_module_version": "1.2.0",
            "_model_name": "LayoutModel",
            "_view_count": null,
            "_view_module": "@jupyter-widgets/base",
            "_view_module_version": "1.2.0",
            "_view_name": "LayoutView",
            "align_content": null,
            "align_items": null,
            "align_self": null,
            "border": null,
            "bottom": null,
            "display": null,
            "flex": null,
            "flex_flow": null,
            "grid_area": null,
            "grid_auto_columns": null,
            "grid_auto_flow": null,
            "grid_auto_rows": null,
            "grid_column": null,
            "grid_gap": null,
            "grid_row": null,
            "grid_template_areas": null,
            "grid_template_columns": null,
            "grid_template_rows": null,
            "height": null,
            "justify_content": null,
            "justify_items": null,
            "left": null,
            "margin": null,
            "max_height": null,
            "max_width": null,
            "min_height": null,
            "min_width": null,
            "object_fit": null,
            "object_position": null,
            "order": null,
            "overflow": null,
            "overflow_x": null,
            "overflow_y": null,
            "padding": null,
            "right": null,
            "top": null,
            "visibility": null,
            "width": null
          }
        },
        "a46aefb6db124bdd945edd4abd2b354a": {
          "model_module": "@jupyter-widgets/controls",
          "model_name": "ButtonStyleModel",
          "model_module_version": "1.5.0",
          "state": {
            "_model_module": "@jupyter-widgets/controls",
            "_model_module_version": "1.5.0",
            "_model_name": "ButtonStyleModel",
            "_view_count": null,
            "_view_module": "@jupyter-widgets/base",
            "_view_module_version": "1.2.0",
            "_view_name": "StyleView",
            "button_color": null,
            "font_weight": ""
          }
        },
        "6ce3fb7b82f842b38d7f0424a0ca4791": {
          "model_module": "@jupyter-widgets/output",
          "model_name": "OutputModel",
          "model_module_version": "1.0.0",
          "state": {
            "_dom_classes": [],
            "_model_module": "@jupyter-widgets/output",
            "_model_module_version": "1.0.0",
            "_model_name": "OutputModel",
            "_view_count": null,
            "_view_module": "@jupyter-widgets/output",
            "_view_module_version": "1.0.0",
            "_view_name": "OutputView",
            "layout": "IPY_MODEL_ff413452f2594fe0ae8cb9c23ffbc736",
            "msg_id": "",
            "outputs": []
          }
        },
        "ff413452f2594fe0ae8cb9c23ffbc736": {
          "model_module": "@jupyter-widgets/base",
          "model_name": "LayoutModel",
          "model_module_version": "1.2.0",
          "state": {
            "_model_module": "@jupyter-widgets/base",
            "_model_module_version": "1.2.0",
            "_model_name": "LayoutModel",
            "_view_count": null,
            "_view_module": "@jupyter-widgets/base",
            "_view_module_version": "1.2.0",
            "_view_name": "LayoutView",
            "align_content": null,
            "align_items": null,
            "align_self": null,
            "border": null,
            "bottom": null,
            "display": null,
            "flex": null,
            "flex_flow": null,
            "grid_area": null,
            "grid_auto_columns": null,
            "grid_auto_flow": null,
            "grid_auto_rows": null,
            "grid_column": null,
            "grid_gap": null,
            "grid_row": null,
            "grid_template_areas": null,
            "grid_template_columns": null,
            "grid_template_rows": null,
            "height": null,
            "justify_content": null,
            "justify_items": null,
            "left": null,
            "margin": null,
            "max_height": null,
            "max_width": null,
            "min_height": null,
            "min_width": null,
            "object_fit": null,
            "object_position": null,
            "order": null,
            "overflow": null,
            "overflow_x": null,
            "overflow_y": null,
            "padding": null,
            "right": null,
            "top": null,
            "visibility": null,
            "width": null
          }
        },
        "efa46eb5b6354f0cbeca0b0e259ddfb5": {
          "model_module": "@jupyter-widgets/controls",
          "model_name": "ButtonModel",
          "model_module_version": "1.5.0",
          "state": {
            "_dom_classes": [],
            "_model_module": "@jupyter-widgets/controls",
            "_model_module_version": "1.5.0",
            "_model_name": "ButtonModel",
            "_view_count": null,
            "_view_module": "@jupyter-widgets/controls",
            "_view_module_version": "1.5.0",
            "_view_name": "ButtonView",
            "button_style": "",
            "description": "compartir",
            "disabled": false,
            "icon": "",
            "layout": "IPY_MODEL_998d6b76877d444a87fec4239f62f912",
            "style": "IPY_MODEL_9c33ec31eb1c43a8beae80421c3776fc",
            "tooltip": ""
          }
        },
        "998d6b76877d444a87fec4239f62f912": {
          "model_module": "@jupyter-widgets/base",
          "model_name": "LayoutModel",
          "model_module_version": "1.2.0",
          "state": {
            "_model_module": "@jupyter-widgets/base",
            "_model_module_version": "1.2.0",
            "_model_name": "LayoutModel",
            "_view_count": null,
            "_view_module": "@jupyter-widgets/base",
            "_view_module_version": "1.2.0",
            "_view_name": "LayoutView",
            "align_content": null,
            "align_items": null,
            "align_self": null,
            "border": null,
            "bottom": null,
            "display": null,
            "flex": null,
            "flex_flow": null,
            "grid_area": null,
            "grid_auto_columns": null,
            "grid_auto_flow": null,
            "grid_auto_rows": null,
            "grid_column": null,
            "grid_gap": null,
            "grid_row": null,
            "grid_template_areas": null,
            "grid_template_columns": null,
            "grid_template_rows": null,
            "height": null,
            "justify_content": null,
            "justify_items": null,
            "left": null,
            "margin": null,
            "max_height": null,
            "max_width": null,
            "min_height": null,
            "min_width": null,
            "object_fit": null,
            "object_position": null,
            "order": null,
            "overflow": null,
            "overflow_x": null,
            "overflow_y": null,
            "padding": null,
            "right": null,
            "top": null,
            "visibility": null,
            "width": null
          }
        },
        "9c33ec31eb1c43a8beae80421c3776fc": {
          "model_module": "@jupyter-widgets/controls",
          "model_name": "ButtonStyleModel",
          "model_module_version": "1.5.0",
          "state": {
            "_model_module": "@jupyter-widgets/controls",
            "_model_module_version": "1.5.0",
            "_model_name": "ButtonStyleModel",
            "_view_count": null,
            "_view_module": "@jupyter-widgets/base",
            "_view_module_version": "1.2.0",
            "_view_name": "StyleView",
            "button_color": null,
            "font_weight": ""
          }
        },
        "d8e67f7516014e209b2a6fe2a8febb15": {
          "model_module": "@jupyter-widgets/output",
          "model_name": "OutputModel",
          "model_module_version": "1.0.0",
          "state": {
            "_dom_classes": [],
            "_model_module": "@jupyter-widgets/output",
            "_model_module_version": "1.0.0",
            "_model_name": "OutputModel",
            "_view_count": null,
            "_view_module": "@jupyter-widgets/output",
            "_view_module_version": "1.0.0",
            "_view_name": "OutputView",
            "layout": "IPY_MODEL_1e6d02d9aac540088cfb366a20fb5f61",
            "msg_id": "",
            "outputs": [
              {
                "output_type": "stream",
                "name": "stdout",
                "text": [
                  "1 likes\n"
                ]
              },
              {
                "output_type": "stream",
                "name": "stdout",
                "text": [
                  "2 likes\n"
                ]
              },
              {
                "output_type": "stream",
                "name": "stdout",
                "text": [
                  "3 likes\n"
                ]
              },
              {
                "output_type": "stream",
                "name": "stdout",
                "text": [
                  "compartido 1 veces\n"
                ]
              },
              {
                "output_type": "stream",
                "name": "stdout",
                "text": [
                  "compartido 2 veces\n"
                ]
              },
              {
                "output_type": "stream",
                "name": "stdout",
                "text": [
                  "compartido 3 veces\n"
                ]
              },
              {
                "output_type": "stream",
                "name": "stdout",
                "text": [
                  "compartido 4 veces\n"
                ]
              },
              {
                "output_type": "stream",
                "name": "stdout",
                "text": [
                  "compartido 5 veces\n"
                ]
              }
            ]
          }
        },
        "1e6d02d9aac540088cfb366a20fb5f61": {
          "model_module": "@jupyter-widgets/base",
          "model_name": "LayoutModel",
          "model_module_version": "1.2.0",
          "state": {
            "_model_module": "@jupyter-widgets/base",
            "_model_module_version": "1.2.0",
            "_model_name": "LayoutModel",
            "_view_count": null,
            "_view_module": "@jupyter-widgets/base",
            "_view_module_version": "1.2.0",
            "_view_name": "LayoutView",
            "align_content": null,
            "align_items": null,
            "align_self": null,
            "border": null,
            "bottom": null,
            "display": null,
            "flex": null,
            "flex_flow": null,
            "grid_area": null,
            "grid_auto_columns": null,
            "grid_auto_flow": null,
            "grid_auto_rows": null,
            "grid_column": null,
            "grid_gap": null,
            "grid_row": null,
            "grid_template_areas": null,
            "grid_template_columns": null,
            "grid_template_rows": null,
            "height": null,
            "justify_content": null,
            "justify_items": null,
            "left": null,
            "margin": null,
            "max_height": null,
            "max_width": null,
            "min_height": null,
            "min_width": null,
            "object_fit": null,
            "object_position": null,
            "order": null,
            "overflow": null,
            "overflow_x": null,
            "overflow_y": null,
            "padding": null,
            "right": null,
            "top": null,
            "visibility": null,
            "width": null
          }
        }
      }
    }
  },
  "cells": [
    {
      "cell_type": "markdown",
      "metadata": {
        "id": "view-in-github",
        "colab_type": "text"
      },
      "source": [
        "<a href=\"https://colab.research.google.com/github/manuelhedez/codigos-python/blob/main/instagrambeta.ipynb\" target=\"_parent\"><img src=\"https://colab.research.google.com/assets/colab-badge.svg\" alt=\"Open In Colab\"/></a>"
      ]
    },
    {
      "cell_type": "code",
      "execution_count": null,
      "metadata": {
        "colab": {
          "base_uri": "https://localhost:8080/",
          "height": 394,
          "referenced_widgets": [
            "7d37f9534f4544ee9ef685ae202db161",
            "f8e16d512a594f528ece86f8cac7c299",
            "a46aefb6db124bdd945edd4abd2b354a",
            "6ce3fb7b82f842b38d7f0424a0ca4791",
            "ff413452f2594fe0ae8cb9c23ffbc736",
            "efa46eb5b6354f0cbeca0b0e259ddfb5",
            "998d6b76877d444a87fec4239f62f912",
            "9c33ec31eb1c43a8beae80421c3776fc",
            "d8e67f7516014e209b2a6fe2a8febb15",
            "1e6d02d9aac540088cfb366a20fb5f61"
          ]
        },
        "id": "mCptqpEOxHEI",
        "outputId": "160919f2-78ff-4624-90b9-94c387d650b1"
      },
      "outputs": [
        {
          "output_type": "stream",
          "name": "stdout",
          "text": [
            "manuel correogenerico@gmail.com,\n",
            "ingrese el titulo del posth\n",
            "ingrese los tags del posth\n",
            "ingrese la ubicacion del posth\n",
            "ingrese url de la foto/content/sample_data/imagen.jpg\n",
            "h\n",
            "2025-03-01 03:44:05.087209\n"
          ]
        },
        {
          "output_type": "display_data",
          "data": {
            "text/plain": [
              "'/content/sample_data/imagen.jpg'"
            ],
            "application/vnd.google.colaboratory.intrinsic+json": {
              "type": "string"
            }
          },
          "metadata": {}
        },
        {
          "output_type": "stream",
          "name": "stdout",
          "text": [
            "h\n",
            "h\n"
          ]
        },
        {
          "output_type": "display_data",
          "data": {
            "text/plain": [
              "Button(description='Likes', style=ButtonStyle())"
            ],
            "application/vnd.jupyter.widget-view+json": {
              "version_major": 2,
              "version_minor": 0,
              "model_id": "7d37f9534f4544ee9ef685ae202db161"
            }
          },
          "metadata": {}
        },
        {
          "output_type": "display_data",
          "data": {
            "text/plain": [
              "Output()"
            ],
            "application/vnd.jupyter.widget-view+json": {
              "version_major": 2,
              "version_minor": 0,
              "model_id": "6ce3fb7b82f842b38d7f0424a0ca4791"
            }
          },
          "metadata": {}
        },
        {
          "output_type": "display_data",
          "data": {
            "text/plain": [
              "Button(description='compartir', style=ButtonStyle())"
            ],
            "application/vnd.jupyter.widget-view+json": {
              "version_major": 2,
              "version_minor": 0,
              "model_id": "efa46eb5b6354f0cbeca0b0e259ddfb5"
            }
          },
          "metadata": {}
        },
        {
          "output_type": "display_data",
          "data": {
            "text/plain": [
              "Output()"
            ],
            "application/vnd.jupyter.widget-view+json": {
              "version_major": 2,
              "version_minor": 0,
              "model_id": "d8e67f7516014e209b2a6fe2a8febb15"
            }
          },
          "metadata": {}
        }
      ],
      "source": [
        "import ipywidgets as widgets\n",
        "from IPython.display import display\n",
        "from datetime import datetime,date\n",
        "class post:\n",
        "  def __init__(self,titulo,fecha,tags,ubi,foto):\n",
        "      self.titulo = titulo\n",
        "      self.fecha = fecha\n",
        "      self.tags = tags\n",
        "      self.ubi = ubi\n",
        "      self.foto = foto\n",
        "  @property\n",
        "  def titulo(self):\n",
        "      return self._titulo\n",
        "  @titulo.setter\n",
        "  def titulo(self, nuevotitulo):\n",
        "      self._titulo = nuevotitulo\n",
        "  @property\n",
        "  def fecha(self):\n",
        "      return self._fecha\n",
        "  @fecha.setter\n",
        "  def fecha(self, fecha):\n",
        "      self._fecha = fecha\n",
        "  @property\n",
        "  def tags(self):\n",
        "      return self._tags\n",
        "  @tags.setter\n",
        "  def tags(self, ntags):\n",
        "      self._tags = ntags\n",
        "  @property\n",
        "  def ubi(self):\n",
        "      return self._ubi\n",
        "  @ubi.setter\n",
        "  def ubi(self, nubi):\n",
        "      self._ubi = nubi\n",
        "  def show_foto(self):\n",
        "          if self._foto:\n",
        "              display(self._foto)\n",
        "          else:\n",
        "              print(\"No image available.\")\n",
        "  @property\n",
        "  def foto(self):\n",
        "        return self._foto\n",
        "  @foto.setter\n",
        "  def foto(self, nfoto):\n",
        "      self._foto = nfoto\n",
        "  def crearpost(self,personax):\n",
        "\n",
        "    personax.titulo=input(\"ingrese el titulo del post\")\n",
        "    personax.tags=input(\"ingrese los tags del post\")\n",
        "    personax.ubi=input(\"ingrese la ubicacion del post\")\n",
        "    personax.foto=input(\"ingrese url de la foto\")\n",
        "    return personax\n",
        "class usuario(post):\n",
        "  def __init__(self,nombre,correo,likes,compartir):\n",
        "    comentarios=[]\n",
        "    self.nombre = nombre\n",
        "    self.correo = correo\n",
        "    self.likes=likes\n",
        "    self.compartir=compartir\n",
        "\n",
        "\n",
        "persona1=usuario(\"manuel\",\"correogenerico@gmail.com,\",0,0)\n",
        "print(persona1.nombre,persona1.correo)\n",
        "persona1.crearpost(persona1)\n",
        "a=datetime.today()\n",
        "persona1.fecha=a\n",
        "print(persona1.titulo)\n",
        "print(persona1.fecha)\n",
        "persona1.show_foto()\n",
        "print(persona1.tags)\n",
        "print(persona1.ubi)\n",
        "button=widgets.Button(description=\"Likes\")\n",
        "output=widgets.Output()\n",
        "\n",
        "display(button,output)\n",
        "\n",
        "def on_button_clicked(b):\n",
        "    with output:\n",
        "        persona1.likes=persona1.likes+1\n",
        "        print(persona1.likes ,\"likes\")\n",
        "button.on_click(on_button_clicked)\n",
        "\n",
        "\n",
        "button=widgets.Button(description=\"compartir\")\n",
        "output=widgets.Output()\n",
        "\n",
        "display(button,output)\n",
        "\n",
        "def on_button_clicked(b):\n",
        "    with output:\n",
        "        persona1.compartir=persona1.compartir+1\n",
        "        print(\"compartido\", persona1.compartir, \"veces\")\n",
        "button.on_click(on_button_clicked)\n",
        "\n"
      ]
    }
  ]
}