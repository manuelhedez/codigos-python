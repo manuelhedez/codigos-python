{
  "nbformat": 4,
  "nbformat_minor": 0,
  "metadata": {
    "colab": {
      "provenance": [],
      "include_colab_link": true
    },
    "kernelspec": {
      "name": "python3",
      "display_name": "Python 3"
    },
    "language_info": {
      "name": "python"
    }
  },
  "cells": [
    {
      "cell_type": "markdown",
      "metadata": {
        "id": "view-in-github",
        "colab_type": "text"
      },
      "source": [
        "<a href=\"https://colab.research.google.com/github/manuelhedez/codigos-python/blob/main/emailtarea.ipynb\" target=\"_parent\"><img src=\"https://colab.research.google.com/assets/colab-badge.svg\" alt=\"Open In Colab\"/></a>"
      ]
    },
    {
      "cell_type": "code",
      "source": [
        "import smtplib, ssl\n",
        "\n",
        "port = 587  # For starttls\n",
        "smtp_server = \"smtp.gmail.com\"\n",
        "sender_email = \"manuel.hernandez9742@alumnos.udg.mx\" # origen\n",
        "receiver_email = \"arturo.valdivia@academicos.udg.mx\" #destinatario\n",
        "password = \"upru phlt tcfk aqfq\"\n",
        "message = \"\"\"\\\n",
        "Subject: Hi there whats going on\n",
        "\n",
        "This message is sent from Python.\"\"\" #Mensaje de felicitacion\n",
        "\n",
        "context = ssl.create_default_context()\n",
        "with smtplib.SMTP(smtp_server, port) as server:\n",
        "    server.ehlo()  # Can be omitted\n",
        "    server.starttls(context=context)\n",
        "    server.ehlo()  # Can be omitted\n",
        "    server.login(sender_email, password)\n",
        "    server.sendmail(sender_email, receiver_email, message)"
      ],
      "metadata": {
        "id": "5q-JvOEkvcGJ"
      },
      "execution_count": 3,
      "outputs": []
    }
  ]
}