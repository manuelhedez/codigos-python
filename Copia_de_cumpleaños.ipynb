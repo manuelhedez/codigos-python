{
  "cells": [
    {
      "cell_type": "markdown",
      "metadata": {
        "id": "view-in-github",
        "colab_type": "text"
      },
      "source": [
        "<a href=\"https://colab.research.google.com/github/manuelhedez/codigos-python/blob/main/Copia_de_cumplea%C3%B1os.ipynb\" target=\"_parent\"><img src=\"https://colab.research.google.com/assets/colab-badge.svg\" alt=\"Open In Colab\"/></a>"
      ]
    },
    {
      "cell_type": "code",
      "execution_count": null,
      "metadata": {
        "id": "7BjoyWAQxGnW"
      },
      "outputs": [],
      "source": []
    },
    {
      "cell_type": "code",
      "execution_count": null,
      "metadata": {
        "colab": {
          "base_uri": "https://localhost:8080/"
        },
        "id": "RvlYkCQ9vFiy",
        "outputId": "f026fa34-b81a-40f9-ac8f-54f252097930"
      },
      "outputs": [
        {
          "name": "stdout",
          "output_type": "stream",
          "text": [
            "\u001b[2K     \u001b[90m━━━━━━━━━━━━━━━━━━━━━━━━━━━━━━━━━━━━━━━━\u001b[0m \u001b[32m44.3/44.3 kB\u001b[0m \u001b[31m1.5 MB/s\u001b[0m eta \u001b[36m0:00:00\u001b[0m\n",
            "\u001b[2K   \u001b[90m━━━━━━━━━━━━━━━━━━━━━━━━━━━━━━━━━━━━━━━━\u001b[0m \u001b[32m9.9/9.9 MB\u001b[0m \u001b[31m20.6 MB/s\u001b[0m eta \u001b[36m0:00:00\u001b[0m\n",
            "\u001b[2K   \u001b[90m━━━━━━━━━━━━━━━━━━━━━━━━━━━━━━━━━━━━━━━━\u001b[0m \u001b[32m6.9/6.9 MB\u001b[0m \u001b[31m30.6 MB/s\u001b[0m eta \u001b[36m0:00:00\u001b[0m\n",
            "\u001b[2K   \u001b[90m━━━━━━━━━━━━━━━━━━━━━━━━━━━━━━━━━━━━━━━━\u001b[0m \u001b[32m79.1/79.1 kB\u001b[0m \u001b[31m4.2 MB/s\u001b[0m eta \u001b[36m0:00:00\u001b[0m\n",
            "\u001b[?25h"
          ]
        }
      ],
      "source": [
        "!pip install -q streamlit"
      ]
    },
    {
      "cell_type": "code",
      "execution_count": null,
      "metadata": {
        "id": "hKHWWoF0gv3j"
      },
      "outputs": [],
      "source": []
    },
    {
      "cell_type": "code",
      "execution_count": null,
      "metadata": {
        "colab": {
          "base_uri": "https://localhost:8080/"
        },
        "id": "meJ36PefNftd",
        "outputId": "aa0cf06e-ffc0-45e9-f0e1-1144520e0e53"
      },
      "outputs": [
        {
          "name": "stdout",
          "output_type": "stream",
          "text": [
            "Writing app.py\n"
          ]
        }
      ],
      "source": [
        "%%writefile app.py\n",
        "#imports necesarios para el funcionamiento\n",
        "import streamlit as st#activa streamlit\n",
        "import csv #para manejar crear y leer las tablas\n",
        "import random #para elegir aleatorio\n",
        "from datetime import datetime, timedelta, date#para las fechas\n",
        "import os\n",
        "import smtplib\n",
        "from email.mime.text import MIMEText\n",
        "#CLASES\n",
        "class cumpleaños:#el como guardamos los cumpleaños,el año fecha y dia se convierten al tipo de dato Date para hacer comparaciones\n",
        "    def __init__(self, nombre, año, mes, dia, correo):\n",
        "        self._nombre = nombre\n",
        "        self.fecha = date(año, mes, dia)\n",
        "        self.correo = correo\n",
        "\n",
        "    @property\n",
        "    def fecha(self):\n",
        "        return self._fecha\n",
        "    @fecha.setter\n",
        "    def fecha(self, fecha):\n",
        "        self._fecha = fecha\n",
        "\n",
        "    @property\n",
        "    def nombre(self):\n",
        "        return self._nombre\n",
        "    @nombre.setter\n",
        "    def nombre(self, nuevonombre):\n",
        "        self._nombre = nuevonombre\n",
        "\n",
        "    @property\n",
        "    def correo(self):\n",
        "        return self._correo\n",
        "    @correo.setter\n",
        "    def correo(self, correo):\n",
        "        self._correo = correo\n",
        "\n",
        "class mensaje:#las propiedades de los mensajes(un string solamente)\n",
        "    def __init__(self, mensaje):\n",
        "        self._mensaje = mensaje\n",
        "    @property\n",
        "    def mensaje(self):\n",
        "        return self._mensaje\n",
        "    @mensaje.setter\n",
        "    def mensaje(self, mensaje):\n",
        "        self._mensaje = mensaje\n",
        "\n",
        "#FUNCIONES AUXILIARES,se es claro su funcionamiento con el nombre\n",
        "def calcular_cuenta_regresiva(fecha_nacimiento):\n",
        "    ahora = datetime.now()\n",
        "    hoy = ahora.date()\n",
        "    proximo_cumple = fecha_nacimiento.replace(year=hoy.year)\n",
        "    if proximo_cumple < hoy:\n",
        "        proximo_cumple = proximo_cumple.replace(year=hoy.year + 1)\n",
        "    proximo_cumple_dt = datetime.combine(proximo_cumple, datetime.min.time())\n",
        "    diferencia = proximo_cumple_dt - ahora\n",
        "    return diferencia\n",
        "\n",
        "def cargar_personas():\n",
        "    personas = []\n",
        "    try:\n",
        "        with open(\"datoscump.csv\", mode=\"r\", newline=\"\", encoding=\"utf-8\") as file:\n",
        "            reader = csv.DictReader(file)\n",
        "            for row in reader:\n",
        "                nombre = row[\"Nombre\"]\n",
        "                fecha_str = row[\"fecha\"]\n",
        "                correo = row[\"correo\"]\n",
        "                año, mes, dia = map(int, fecha_str.split(\"-\"))\n",
        "                personas.append(cumpleaños(nombre, año, mes, dia, correo))\n",
        "    except FileNotFoundError:\n",
        "        pass\n",
        "    return personas\n",
        "\n",
        "def cargar_mensajes():\n",
        "    mensajes = []\n",
        "    try:\n",
        "        with open(\"mensaje.csv\", mode=\"r\", newline=\"\", encoding=\"utf-8\") as file:\n",
        "            reader = csv.DictReader(file)\n",
        "            for row in reader:\n",
        "                mensajes.append(mensaje(row[\"mensaje\"]))\n",
        "    except FileNotFoundError:\n",
        "        pass\n",
        "    return mensajes\n",
        "def enviar_felicitacion(destinatario, nombre, mensaje_texto):\n",
        "    remitente = \"manuel.hernandez9742@alumnos.udg.mx\"\n",
        "    contraseña = \"upru phlt tcfk aqfq\"\n",
        "\n",
        "    msg = MIMEText(f\"¡Feliz cumpleaños, {nombre}!\\n\\n{mensaje_texto}\")\n",
        "    msg[\"Subject\"] = \"🎉 ¡Feliz cumpleaños!\"\n",
        "    msg[\"From\"] = remitente\n",
        "    msg[\"To\"] = destinatario\n",
        "\n",
        "    with smtplib.SMTP(\"smtp.gmail.com\", 587) as server:\n",
        "        server.starttls()\n",
        "        server.login(remitente, contraseña)\n",
        "        server.send_message(msg)\n",
        "\n",
        "#INTERFAZ STREAMLIT\n",
        "st.set_page_config(page_title=\"Gestor de Cumpleaños 🎂\", layout=\"centered\")\n",
        "st.title(\"🎉 Gestor de Cumpleaños con Mensajes\")\n",
        "#se leen las tablas ´para cargarlas al programa\n",
        "personas = cargar_personas()\n",
        "mensajes = cargar_mensajes()\n",
        "\n",
        "st.subheader(\"📋 Lista de Cumpleaños\")\n",
        "if personas:\n",
        "    for persona in personas: #se muestran los usuarios del programa y el tiempo faltante para el cumpleaños\n",
        "        cuenta = calcular_cuenta_regresiva(persona.fecha)\n",
        "        dias, segundos = cuenta.days, cuenta.seconds\n",
        "        horas = segundos // 3600\n",
        "        minutos = (segundos % 3600) // 60\n",
        "        segundos = segundos % 60\n",
        "        st.write(f\"**{persona.nombre}** | {persona.fecha} | Faltan `{dias}d {horas}h {minutos}m`\")\n",
        "else:\n",
        "    st.info(\"No hay cumpleaños registrados.\")\n",
        "\n",
        "#BOTONES\n",
        "with st.expander(\" Agregar cumpleaños\"):#boton para añadir usuarios\n",
        "    with st.form(\"form_cumple\"):\n",
        "        nombre = st.text_input(\"Nombre\")\n",
        "        fecha = st.date_input(\"Fecha de nacimiento\")\n",
        "        correo = st.text_input(\"Correo\")\n",
        "        enviar = st.form_submit_button(\"Guardar cumpleaños\")\n",
        "        if enviar:\n",
        "            nuevo = cumpleaños(nombre, fecha.year, fecha.month, fecha.day, correo)\n",
        "            with open(\"datoscump.csv\", mode=\"a\", newline=\"\", encoding=\"utf-8\") as file:\n",
        "                writer = csv.writer(file)\n",
        "                if os.stat(\"datoscump.csv\").st_size == 0:\n",
        "                    writer.writerow([\"Nombre\", \"fecha\", \"correo\"])\n",
        "                writer.writerow([nuevo.nombre, nuevo.fecha, nuevo.correo])\n",
        "            st.success(f\"Se agregó a {nuevo.nombre}\")\n",
        "\n",
        "with st.expander(\"💬 Agregar mensaje\"):\n",
        "    with st.form(\"form_mensaje\"):\n",
        "        texto = st.text_area(\"Mensaje de felicitación\")\n",
        "        enviar = st.form_submit_button(\"Guardar mensaje\")\n",
        "        if enviar:\n",
        "            nuevo = mensaje(texto)\n",
        "            with open(\"mensaje.csv\", mode=\"a\", newline=\"\", encoding=\"utf-8\") as file:\n",
        "                writer = csv.writer(file)\n",
        "                if os.stat(\"mensaje.csv\").st_size == 0:\n",
        "                    writer.writerow([\"mensaje\"])\n",
        "                writer.writerow([nuevo.mensaje])\n",
        "            st.success(\"Mensaje guardado\")\n",
        "\n",
        "#comprobar si hay usuarios que cumplen hoy y de haberlo, decidir como enviar el mensaje\n",
        "with st.expander(\"📬 Revisar cumpleaños y enviar mensajes\"):\n",
        "    hoy = date.today()\n",
        "    cumple_hoy = [p for p in personas if p.fecha.day == hoy.day and p.fecha.month == hoy.month]\n",
        "\n",
        "    if cumple_hoy and mensajes:\n",
        "        st.write(f\"🎉 Hay {len(cumple_hoy)} cumpleaños hoy.\")\n",
        "\n",
        "        opcion = st.radio(\n",
        "            \"¿Quieres elegir un mensaje o enviar uno aleatorio?\",\n",
        "            (\"Aleatorio\", \"Elegir mensaje específico\"),\n",
        "            key=\"tipo_mensaje\"\n",
        "        )\n",
        "\n",
        "        opciones_mensajes = [m.mensaje for m in mensajes]\n",
        "        if opcion == \"Elegir mensaje específico\":\n",
        "            mensaje_seleccionado = st.selectbox(\"Selecciona el mensaje a enviar\", opciones_mensajes, key=\"mensaje_manual\")\n",
        "        else:\n",
        "            mensaje_seleccionado = random.choice(opciones_mensajes)\n",
        "\n",
        "        if st.button(\"Enviar mensajes\"):\n",
        "            for persona in cumple_hoy:\n",
        "                try:\n",
        "                    enviar_felicitacion(persona.correo, persona.nombre, mensaje_seleccionado)\n",
        "                    st.success(f\"Mensaje enviado a {persona.nombre}\")\n",
        "                except Exception as e:\n",
        "                    st.error(f\"Error al enviar a {persona.nombre}: {e}\")\n",
        "    else:\n",
        "        st.warning(\"No hay cumpleaños hoy o no hay mensajes cargados.\")\n"
      ]
    },
    {
      "cell_type": "code",
      "execution_count": null,
      "metadata": {
        "colab": {
          "base_uri": "https://localhost:8080/"
        },
        "id": "ZAyqQCQVOoxC",
        "outputId": "43cd2ec4-1194-476f-e3d2-554763b589ca"
      },
      "outputs": [
        {
          "name": "stdout",
          "output_type": "stream",
          "text": [
            "\u001b[1G\u001b[0K⠙\u001b[1G\u001b[0K⠹\u001b[1G\u001b[0K⠸\u001b[1G\u001b[0K⠼\u001b[1G\u001b[0K⠴\u001b[1G\u001b[0K\n",
            "up to date, audited 23 packages in 722ms\n",
            "\u001b[1G\u001b[0K⠴\u001b[1G\u001b[0K\n",
            "\u001b[1G\u001b[0K⠴\u001b[1G\u001b[0K3 packages are looking for funding\n",
            "\u001b[1G\u001b[0K⠴\u001b[1G\u001b[0K  run `npm fund` for details\n",
            "\u001b[1G\u001b[0K⠴\u001b[1G\u001b[0K\n",
            "2 \u001b[31m\u001b[1mhigh\u001b[22m\u001b[39m severity vulnerabilities\n",
            "\n",
            "To address all issues (including breaking changes), run:\n",
            "  npm audit fix --force\n",
            "\n",
            "Run `npm audit` for details.\n",
            "\u001b[1G\u001b[0K⠴\u001b[1G\u001b[0K"
          ]
        }
      ],
      "source": [
        "!npm install localtunnel"
      ]
    },
    {
      "cell_type": "code",
      "execution_count": null,
      "metadata": {
        "colab": {
          "base_uri": "https://localhost:8080/"
        },
        "id": "Zv912rRAN0fs",
        "outputId": "feb291ee-d117-4934-8669-cc0f8ecc3714"
      },
      "outputs": [
        {
          "name": "stdout",
          "output_type": "stream",
          "text": [
            "34.69.98.20\n"
          ]
        }
      ],
      "source": [
        "!streamlit run /content/app.py &>/content/logs.txt & curl ipv4.icanhazip.com"
      ]
    },
    {
      "cell_type": "code",
      "execution_count": null,
      "metadata": {
        "colab": {
          "background_save": true,
          "base_uri": "https://localhost:8080/"
        },
        "id": "XTGAizLhOIgC",
        "outputId": "ccfa1c34-7595-49ba-9dc3-1bc8f24d2bbe"
      },
      "outputs": [
        {
          "name": "stdout",
          "output_type": "stream",
          "text": [
            "\u001b[1G\u001b[0K⠙\u001b[1G\u001b[0Kyour url is: https://honest-oranges-type.loca.lt\n"
          ]
        }
      ],
      "source": [
        "!npx localtunnel --port 8501"
      ]
    }
  ],
  "metadata": {
    "colab": {
      "provenance": [],
      "authorship_tag": "ABX9TyPq0ZBQvVx2OAGqEzzkcGdX",
      "include_colab_link": true
    },
    "kernelspec": {
      "display_name": "Python 3",
      "name": "python3"
    },
    "language_info": {
      "name": "python"
    }
  },
  "nbformat": 4,
  "nbformat_minor": 0
}