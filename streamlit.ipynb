{
  "cells": [
    {
      "cell_type": "markdown",
      "metadata": {
        "id": "view-in-github",
        "colab_type": "text"
      },
      "source": [
        "<a href=\"https://colab.research.google.com/github/manuelhedez/codigos-python/blob/main/streamlit.ipynb\" target=\"_parent\"><img src=\"https://colab.research.google.com/assets/colab-badge.svg\" alt=\"Open In Colab\"/></a>"
      ]
    },
    {
      "cell_type": "code",
      "execution_count": null,
      "metadata": {
        "id": "7BjoyWAQxGnW"
      },
      "outputs": [],
      "source": []
    },
    {
      "cell_type": "code",
      "execution_count": null,
      "metadata": {
        "colab": {
          "base_uri": "https://localhost:8080/"
        },
        "id": "RvlYkCQ9vFiy",
        "outputId": "b9a1df9c-d957-467a-bb39-58ba33597f0c"
      },
      "outputs": [
        {
          "name": "stdout",
          "output_type": "stream",
          "text": [
            "\u001b[2K     \u001b[90m━━━━━━━━━━━━━━━━━━━━━━━━━━━━━━━━━━━━━━━━\u001b[0m \u001b[32m44.3/44.3 kB\u001b[0m \u001b[31m907.9 kB/s\u001b[0m eta \u001b[36m0:00:00\u001b[0m\n",
            "\u001b[2K   \u001b[90m━━━━━━━━━━━━━━━━━━━━━━━━━━━━━━━━━━━━━━━━\u001b[0m \u001b[32m9.8/9.8 MB\u001b[0m \u001b[31m42.7 MB/s\u001b[0m eta \u001b[36m0:00:00\u001b[0m\n",
            "\u001b[2K   \u001b[90m━━━━━━━━━━━━━━━━━━━━━━━━━━━━━━━━━━━━━━━━\u001b[0m \u001b[32m6.9/6.9 MB\u001b[0m \u001b[31m52.7 MB/s\u001b[0m eta \u001b[36m0:00:00\u001b[0m\n",
            "\u001b[2K   \u001b[90m━━━━━━━━━━━━━━━━━━━━━━━━━━━━━━━━━━━━━━━━\u001b[0m \u001b[32m79.1/79.1 kB\u001b[0m \u001b[31m4.8 MB/s\u001b[0m eta \u001b[36m0:00:00\u001b[0m\n",
            "\u001b[?25h"
          ]
        }
      ],
      "source": [
        "!pip install -q streamlit"
      ]
    },
    {
      "cell_type": "code",
      "execution_count": null,
      "metadata": {
        "colab": {
          "base_uri": "https://localhost:8080/"
        },
        "id": "meJ36PefNftd",
        "outputId": "1b0c8421-44f7-4ff6-9ec4-35e704d17582"
      },
      "outputs": [
        {
          "name": "stdout",
          "output_type": "stream",
          "text": [
            "Overwriting app.py\n"
          ]
        }
      ],
      "source": [
        "%%writefile app.py\n",
        "import streamlit as st\n",
        "class Nota:\n",
        "  def __init__(self,titulo,contenido):\n",
        "    self.titulo=titulo\n",
        "    self.contenido=contenido\n",
        "  def mostrar(self):\n",
        "    return f\"**{self.titulo}**\\n{self.contenido}\"\n",
        "  def modificar(self,nuevo_contenido):\n",
        "    self.contenido=nuevo_contenido\n",
        "class notatexto(Nota):\n",
        "    def formatear(self):\n",
        "      return self.contenido.upper\n",
        "class notalista(Nota):\n",
        "    def agregar(self,elemento):\n",
        "      self.contenido.append(elemento)\n",
        "    def mostrar(self):\n",
        "      return f\"**{self.titulo}**\\n\"+ \"\\n\".join(f\"-{item}\"for item in self.contenido)\n",
        "class notaimagen(Nota):\n",
        "    def mostrar(self):\n",
        "      return self.titulo\n",
        "class Blocdenotas:\n",
        "    def __init__(self):\n",
        "      self.notas=[]\n",
        "    def agregar(self,nota):\n",
        "      self.notas.append(nota)\n",
        "    def mostrar(self):\n",
        "      return self.notas\n",
        "    def buscar(self,titulo):\n",
        "      for nota in self.notas:\n",
        "        if nota.titulo==titulo:\n",
        "          return nota\n",
        "      return None\n",
        "    def eliminar(self,titulo):\n",
        "      nota=self.buscar(titulo)\n",
        "      if nota is not None:\n",
        "        self.notas.remove(nota)\n",
        "        return True\n",
        "      return False\n",
        "bloc=Blocdenotas()\n",
        "st.title(\"Bloc de notas\")\n",
        "titulo=st.text_input(\"Titulo de la nota\")\n",
        "contenido=st.text_area(\"Contenido de la nota\")\n",
        "tiponota=st.selectbox(\"Tipo de nota\",[\"Texto\",\"Lista\",\"Imagen\"])\n",
        "if st.button(\"Agregar nota\"):\n",
        "  if tiponota==\"Texto\":\n",
        "    nota=notatexto(titulo,contenido)\n",
        "  elif tiponota==\"Lista\":\n",
        "    nota=notalista(titulo,[])\n",
        "  else:\n",
        "        nota=notaimagen(titulo,contenido)\n",
        "  bloc.agregar(nota)\n",
        "  st.success(\"Nota agregada con exito\")\n",
        "\n",
        "st.subheader(\"Notas en el bloc\")\n",
        "for nota in bloc.notas:\n",
        "  if isinstance(nota,notaimagen):\n",
        "    st.write(nota.mostrar(),unsafe_allow_html=True)\n",
        "  else:\n",
        "    st.markdown(nota.mostrar(),unsafe_allow_html=True)\n",
        "titulo_eliminar=st.text_input(\"Titulo de la nota a eliminar\")\n",
        "if st.button(\"Eliminar nota\"):\n",
        "  if bloc.eliminar(titulo_eliminar):\n",
        "    st.success(\"Nota eliminada con exito\")\n"
      ]
    },
    {
      "cell_type": "code",
      "execution_count": null,
      "metadata": {
        "colab": {
          "base_uri": "https://localhost:8080/"
        },
        "id": "ZAyqQCQVOoxC",
        "outputId": "a1437685-efd6-422a-a47c-040319cf48b0"
      },
      "outputs": [
        {
          "name": "stdout",
          "output_type": "stream",
          "text": [
            "\u001b[1G\u001b[0K⠙\u001b[1G\u001b[0K⠹\u001b[1G\u001b[0K⠸\u001b[1G\u001b[0K⠼\u001b[1G\u001b[0K⠴\u001b[1G\u001b[0K\n",
            "up to date, audited 23 packages in 896ms\n",
            "\u001b[1G\u001b[0K⠴\u001b[1G\u001b[0K\n",
            "\u001b[1G\u001b[0K⠴\u001b[1G\u001b[0K3 packages are looking for funding\n",
            "\u001b[1G\u001b[0K⠴\u001b[1G\u001b[0K  run `npm fund` for details\n",
            "\u001b[1G\u001b[0K⠴\u001b[1G\u001b[0K\n",
            "2 \u001b[31m\u001b[1mhigh\u001b[22m\u001b[39m severity vulnerabilities\n",
            "\n",
            "To address all issues (including breaking changes), run:\n",
            "  npm audit fix --force\n",
            "\n",
            "Run `npm audit` for details.\n",
            "\u001b[1G\u001b[0K⠦\u001b[1G\u001b[0K"
          ]
        }
      ],
      "source": [
        "!npm install localtunnel"
      ]
    },
    {
      "cell_type": "code",
      "execution_count": null,
      "metadata": {
        "colab": {
          "base_uri": "https://localhost:8080/"
        },
        "id": "Zv912rRAN0fs",
        "outputId": "d14e10df-bd01-4540-9414-961d82486756"
      },
      "outputs": [
        {
          "name": "stdout",
          "output_type": "stream",
          "text": [
            "34.82.0.136\n"
          ]
        }
      ],
      "source": [
        "!streamlit run /content/app.py &>/content/logs.txt & curl ipv4.icanhazip.com"
      ]
    },
    {
      "cell_type": "code",
      "execution_count": null,
      "metadata": {
        "colab": {
          "background_save": true,
          "base_uri": "https://localhost:8080/"
        },
        "id": "XTGAizLhOIgC",
        "outputId": "a91efb77-3eb3-45c4-8d4b-19495e74449e"
      },
      "outputs": [
        {
          "name": "stdout",
          "output_type": "stream",
          "text": [
            "\u001b[1G\u001b[0K⠙\u001b[1G\u001b[0Kyour url is: https://short-vans-vanish.loca.lt\n"
          ]
        }
      ],
      "source": [
        "!npx localtunnel --port 8501"
      ]
    }
  ],
  "metadata": {
    "colab": {
      "provenance": [],
      "authorship_tag": "ABX9TyN70XOzu+HJ5vUX0zTaVRFU",
      "include_colab_link": true
    },
    "kernelspec": {
      "display_name": "Python 3",
      "name": "python3"
    },
    "language_info": {
      "name": "python"
    }
  },
  "nbformat": 4,
  "nbformat_minor": 0
}