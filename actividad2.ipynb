{
  "nbformat": 4,
  "nbformat_minor": 0,
  "metadata": {
    "colab": {
      "provenance": [],
      "authorship_tag": "ABX9TyNU+X3K0xLbAXva3Q36lcv9",
      "include_colab_link": true
    },
    "kernelspec": {
      "name": "python3",
      "display_name": "Python 3"
    },
    "language_info": {
      "name": "python"
    }
  },
  "cells": [
    {
      "cell_type": "markdown",
      "metadata": {
        "id": "view-in-github",
        "colab_type": "text"
      },
      "source": [
        "<a href=\"https://colab.research.google.com/github/manuelhedez/codigos-python/blob/main/actividad2.ipynb\" target=\"_parent\"><img src=\"https://colab.research.google.com/assets/colab-badge.svg\" alt=\"Open In Colab\"/></a>"
      ]
    },
    {
      "cell_type": "code",
      "execution_count": null,
      "metadata": {
        "colab": {
          "base_uri": "https://localhost:8080/"
        },
        "id": "iTInlECh0ULi",
        "outputId": "be8bde02-cce7-4d8d-b0d0-4d35fde880da"
      },
      "outputs": [
        {
          "output_type": "stream",
          "name": "stdout",
          "text": [
            "juan perez\n",
            "RH\n",
            "18000\n",
            "pedro perez\n",
            "tecnico\n",
            "10000\n"
          ]
        }
      ],
      "source": [
        "class EmpleadoUniversitario:\n",
        "  def __init__(self,nombre,departamento,salario):\n",
        "    self.nombre = nombre\n",
        "    self.departamento = departamento\n",
        "    self.salario = salario\n",
        "  def get_nombre(self):\n",
        "      return self.nombre\n",
        "  def get_departamento(self):\n",
        "      return self.departamento\n",
        "  def get_salario(self):\n",
        "      return self.salario\n",
        "  def set_nombre(self,nuevo_nombre):\n",
        "        self.nombre = nuevo_nombre\n",
        "  def set_departamento(self,nuevo_departamento):\n",
        "        self.departamento = nuevo_departamento\n",
        "  def set_salario(self,nuevo_salario):\n",
        "        if nuevo_salario < 0:\n",
        "            print(\"el salario no puede ser negativo\")\n",
        "            return -1\n",
        "        else:\n",
        "          self.salario = nuevo_salario\n",
        "          return 1\n",
        "empleado1 = EmpleadoUniversitario(\"juan perez\",\"RH\",18000)\n",
        "print(empleado1.get_nombre())\n",
        "print(empleado1.get_departamento())\n",
        "print(empleado1.get_salario())\n",
        "empleado1.set_nombre(\"pedro perez\")\n",
        "empleado1.set_departamento(\"tecnico\")\n",
        "empleado1.set_salario(10000)\n",
        "print(empleado1.get_nombre())\n",
        "print(empleado1.get_departamento())\n",
        "print(empleado1.get_salario())"
      ]
    }
  ]
}